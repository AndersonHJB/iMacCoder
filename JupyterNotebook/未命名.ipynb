{
 "cells": [
  {
   "cell_type": "code",
   "execution_count": 3,
   "id": "c56fabb8",
   "metadata": {},
   "outputs": [
    {
     "name": "stdout",
     "output_type": "stream",
     "text": [
      "11\n"
     ]
    }
   ],
   "source": [
    "x = 1\n",
    "x = x + 10\n",
    "print(x)"
   ]
  },
  {
   "cell_type": "code",
   "execution_count": 6,
   "id": "23e0b622",
   "metadata": {},
   "outputs": [
    {
     "name": "stdout",
     "output_type": "stream",
     "text": [
      "lilei\n"
     ]
    }
   ],
   "source": [
    "name1 = \"lilei\"\n",
    "name2 = name1\n",
    "print(name2)"
   ]
  },
  {
   "cell_type": "code",
   "execution_count": 8,
   "id": "a5f37543",
   "metadata": {},
   "outputs": [
    {
     "name": "stdout",
     "output_type": "stream",
     "text": [
      "lilei\n",
      "hanmeimei\n"
     ]
    }
   ],
   "source": [
    "name1 = \"lilei\"\n",
    "print(name1)\n",
    "name1 = \"hanmeimei\"\n",
    "print(name1)"
   ]
  },
  {
   "cell_type": "code",
   "execution_count": 9,
   "id": "7d8539b3",
   "metadata": {},
   "outputs": [],
   "source": [
    "# name1 = \"lilei\"\n",
    "# name2 = \"\"\n",
    "control+/"
   ]
  },
  {
   "cell_type": "code",
   "execution_count": 11,
   "id": "eb73152c",
   "metadata": {},
   "outputs": [
    {
     "name": "stdout",
     "output_type": "stream",
     "text": [
      "1\n",
      "1\n",
      "1\n"
     ]
    }
   ],
   "source": [
    "a = 1\n",
    "b = 1\n",
    "c = 1\n",
    "print(a)\n",
    "print(b)\n",
    "print(c)"
   ]
  },
  {
   "cell_type": "code",
   "execution_count": 13,
   "id": "be41a2b5",
   "metadata": {},
   "outputs": [
    {
     "name": "stdout",
     "output_type": "stream",
     "text": [
      "1\n",
      "1\n",
      "1\n"
     ]
    }
   ],
   "source": [
    "a = b = c = 1\n",
    "print(a)\n",
    "print(b)\n",
    "print(c)"
   ]
  },
  {
   "cell_type": "code",
   "execution_count": 16,
   "id": "06b8c8d9",
   "metadata": {},
   "outputs": [
    {
     "name": "stdout",
     "output_type": "stream",
     "text": [
      "1 1 1\n"
     ]
    }
   ],
   "source": [
    "print(a, \n",
    "      b, \n",
    "      c)"
   ]
  },
  {
   "cell_type": "code",
   "execution_count": 21,
   "id": "5b95b0ad",
   "metadata": {},
   "outputs": [
    {
     "name": "stdout",
     "output_type": "stream",
     "text": [
      "1$1*1%"
     ]
    }
   ],
   "source": [
    "print(a, end=\"$\")\n",
    "# print 自带换行\n",
    "# 换行\n",
    "print(b, end=\"*\")\n",
    "print(c, end=\"%\")"
   ]
  },
  {
   "cell_type": "code",
   "execution_count": 25,
   "id": "9fb8b667",
   "metadata": {},
   "outputs": [
    {
     "name": "stdout",
     "output_type": "stream",
     "text": [
      "1#######1#######1$"
     ]
    }
   ],
   "source": [
    "print(a, b, c, end=\"$\", sep=\"#######\")"
   ]
  },
  {
   "cell_type": "code",
   "execution_count": 27,
   "id": "b0cb0a55",
   "metadata": {},
   "outputs": [
    {
     "name": "stdout",
     "output_type": "stream",
     "text": [
      "1 2 3\n"
     ]
    }
   ],
   "source": [
    "a = 1\n",
    "b = 2\n",
    "c = 3\n",
    "print(a, b, c)"
   ]
  },
  {
   "cell_type": "code",
   "execution_count": 29,
   "id": "33b2474f",
   "metadata": {},
   "outputs": [
    {
     "name": "stdout",
     "output_type": "stream",
     "text": [
      "1 2 3\n"
     ]
    }
   ],
   "source": [
    "a, b, c = 1, 2, 3\n",
    "print(a, b, c)"
   ]
  },
  {
   "cell_type": "code",
   "execution_count": 31,
   "id": "11085887",
   "metadata": {},
   "outputs": [
    {
     "name": "stdout",
     "output_type": "stream",
     "text": [
      "橙汁\n",
      "果汁\n"
     ]
    }
   ],
   "source": [
    "A = \"果汁\"\n",
    "B = \"橙汁\"\n",
    "C = A\n",
    "A = B\n",
    "B = C\n",
    "print(A)\n",
    "print(B)"
   ]
  },
  {
   "cell_type": "code",
   "execution_count": 33,
   "id": "f4cc84c1",
   "metadata": {},
   "outputs": [
    {
     "name": "stdout",
     "output_type": "stream",
     "text": [
      "橙汁\n",
      "果汁\n"
     ]
    }
   ],
   "source": [
    "A, B = B, A\n",
    "print(A)\n",
    "print(B)"
   ]
  },
  {
   "cell_type": "code",
   "execution_count": 35,
   "id": "fdeb8cff",
   "metadata": {},
   "outputs": [
    {
     "name": "stdout",
     "output_type": "stream",
     "text": [
      "aiyc\n"
     ]
    }
   ],
   "source": [
    "A = \"aiyc\"\n",
    "a = \"look\"\n",
    "print(A)"
   ]
  },
  {
   "cell_type": "code",
   "execution_count": 37,
   "id": "754817c6",
   "metadata": {},
   "outputs": [
    {
     "ename": "SyntaxError",
     "evalue": "leading zeros in decimal integer literals are not permitted; use an 0o prefix for octal integers (1228646181.py, line 1)",
     "output_type": "error",
     "traceback": [
      "\u001b[0;36m  File \u001b[0;32m\"/var/folders/km/r9fjnw695w9dwxzlpvcsnq8r0000gn/T/ipykernel_26827/1228646181.py\"\u001b[0;36m, line \u001b[0;32m1\u001b[0m\n\u001b[0;31m    01username\u001b[0m\n\u001b[0m     ^\u001b[0m\n\u001b[0;31mSyntaxError\u001b[0m\u001b[0;31m:\u001b[0m leading zeros in decimal integer literals are not permitted; use an 0o prefix for octal integers\n"
     ]
    }
   ],
   "source": [
    "01username\n",
    "02username"
   ]
  },
  {
   "cell_type": "code",
   "execution_count": 38,
   "id": "f459d07f",
   "metadata": {},
   "outputs": [],
   "source": [
    "us01ername01 = 1\n"
   ]
  },
  {
   "cell_type": "code",
   "execution_count": 44,
   "id": "58df18e6",
   "metadata": {},
   "outputs": [],
   "source": [
    "usernqdwdqwfqfwame = \"aiyc\"\n",
    "usernqdwdqwfqfwame = \"aiyc\"\n",
    "usernqdwdqwfqfwame = \"aiyc\"\n",
    "usernqdwdqwfqfwame = \"aiyc\"\n",
    "usernqdwdqwfqfwame = \"aiyc\"\n",
    "usernqdwdqwfqfwame = \"aiyc\"\n",
    "usernqdwdqwfqfwame = \"aiyc\"\n",
    "usernqdwdqwfqfwame = \"aiyc\"\n",
    "\n",
    "usernqdwdqwfqfwame=\"aiyc\"\n",
    "usernqdwdqwfqfwame=\"aiyc\"\n",
    "usernqdwdqwfqfwame=\"aiyc\"\n",
    "usernqdwdqwfqfwame=\"aiyc\"\n",
    "usernqdwdqwfqfwame=\"aiyc\"\n",
    "usernqdwdqwfqfwame=\"aiyc\"\n",
    "usernqdwdqwfqfwame=\"aiyc\"\n",
    "usernqdwdqwfqfwame=\"aiyc\"\n",
    "usernqdwdqwfqfwame=\"aiyc\"\n",
    "usernqdwdqwfqfwame=\"aiyc\"\n",
    "usernqdwdqwfqfwame=\"aiyc\"\n",
    "usernqdwdqwfqfwame=\"aiyc\""
   ]
  },
  {
   "cell_type": "code",
   "execution_count": 42,
   "id": "33176e59",
   "metadata": {
    "scrolled": true
   },
   "outputs": [
    {
     "ename": "SyntaxError",
     "evalue": "invalid syntax (2994900384.py, line 2)",
     "output_type": "error",
     "traceback": [
      "\u001b[0;36m  File \u001b[0;32m\"/var/folders/km/r9fjnw695w9dwxzlpvcsnq8r0000gn/T/ipykernel_26827/2994900384.py\"\u001b[0;36m, line \u001b[0;32m2\u001b[0m\n\u001b[0;31m    if = \"aiyc\"\u001b[0m\n\u001b[0m       ^\u001b[0m\n\u001b[0;31mSyntaxError\u001b[0m\u001b[0;31m:\u001b[0m invalid syntax\n"
     ]
    }
   ],
   "source": [
    "print(help(\"keywords\"))\n",
    "if = \"aiyc\""
   ]
  },
  {
   "cell_type": "code",
   "execution_count": 43,
   "id": "a3b45829",
   "metadata": {},
   "outputs": [],
   "source": [
    "print = \"aiyc\"\n",
    "# 歧义"
   ]
  }
 ],
 "metadata": {
  "kernelspec": {
   "display_name": "Python 3 (ipykernel)",
   "language": "python",
   "name": "python3"
  },
  "language_info": {
   "codemirror_mode": {
    "name": "ipython",
    "version": 3
   },
   "file_extension": ".py",
   "mimetype": "text/x-python",
   "name": "python",
   "nbconvert_exporter": "python",
   "pygments_lexer": "ipython3",
   "version": "3.9.10"
  }
 },
 "nbformat": 4,
 "nbformat_minor": 5
}
