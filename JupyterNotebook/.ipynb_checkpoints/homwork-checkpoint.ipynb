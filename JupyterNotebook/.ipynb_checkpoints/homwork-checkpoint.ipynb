{
 "cells": [
  {
   "cell_type": "code",
   "execution_count": 83,
   "id": "209d9657",
   "metadata": {},
   "outputs": [],
   "source": [
    "from selenium.webdriver.common.by import By\n",
    "from selenium import webdriver\n",
    "import time\n",
    "import pandas as pd\n",
    "import requests\n",
    "from bs4 import BeautifulSoup\n",
    "import pandas as pd\n",
    "from datetime import date\n",
    "import urllib.request\n",
    "import ssl"
   ]
  },
  {
   "cell_type": "code",
   "execution_count": 109,
   "id": "7757f2cb",
   "metadata": {},
   "outputs": [],
   "source": [
    "class articledownload():\n",
    "    ## How to do the optimal arguement \"\"\n",
    "    def __init__(self, url,master):\n",
    "        self.url = url\n",
    "        self.master = master\n",
    "       \n",
    "   \n",
    "    def GetFullList(self):\n",
    "        link=list()\n",
    "        code=list()\n",
    "        driver = webdriver.Chrome(r'C:\\Users\\kan.ming\\chromedriver.exe')\n",
    "        driver.get(self.url)\n",
    "        time.sleep(2)\n",
    "        elem = driver.find_elements(By.XPATH,\"//a[contains(text(), '第') and contains(text(), '章')]\")\n",
    "        for each in elem:\n",
    "            link.append(each.get_attribute('href'))\n",
    "            code.append(each.text)\n",
    "        return link,code\n",
    "    \n",
    "    # error when Call this function outside\n",
    "    def savemaster(link,code):\n",
    "        Master= pd.DataFrame(list(zip(code,link)),columns =['code', 'source'])\n",
    "        Master.to_csv(\"Master.csv\",encoding=\"utf-8\")\n",
    "        \n",
    "        \n",
    "        \n",
    "        \n",
    "    def openpage(pagesource):\n",
    "        context = ssl._create_unverified_context()\n",
    "        res = urllib.request.urlopen(pagesource,\n",
    "              context=context)\n",
    "        soup = BeautifulSoup(res, \"html.parser\")\n",
    "        return soup\n",
    "        \n",
    "    \n",
    "    def ChecknewItem(self):\n",
    "        masterfile=pd.read_csv(self.master)\n",
    "        OldList=masterfile[\"link\"]\n",
    "        currentlist=GetFullList()# why this function is not defined\n",
    "        downloadlist=list(set(currentlist[1]) - set(OldList))\n",
    "        return downloadlist\n",
    "    \n",
    "    \n",
    "    \n",
    "    def downloadcontent(downloadlist)\n",
    "        contentlist\n",
    "        for item in downloadlist:\n",
    "            soup=openpage(pagesource=item)\n",
    "            content=soup.find('div',id=content).text\n",
    "            contentlist.apend(content)\n",
    "            \n",
    "    \n",
    "\n"
   ]
  },
  {
   "cell_type": "code",
   "execution_count": null,
   "id": "b07355f5",
   "metadata": {},
   "outputs": [],
   "source": []
  }
 ],
 "metadata": {
  "kernelspec": {
   "display_name": "Python 3 (ipykernel)",
   "language": "python",
   "name": "python3"
  },
  "language_info": {
   "codemirror_mode": {
    "name": "ipython",
    "version": 3
   },
   "file_extension": ".py",
   "mimetype": "text/x-python",
   "name": "python",
   "nbconvert_exporter": "python",
   "pygments_lexer": "ipython3",
   "version": "3.9.10"
  }
 },
 "nbformat": 4,
 "nbformat_minor": 5
}
